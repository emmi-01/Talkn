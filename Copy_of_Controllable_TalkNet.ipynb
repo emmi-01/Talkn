{
  "nbformat": 4,
  "nbformat_minor": 0,
  "metadata": {
    "colab": {
      "provenance": []
    },
    "kernelspec": {
      "name": "python3",
      "display_name": "Python 3"
    },
    "language_info": {
      "name": "python"
    },
    "accelerator": "GPU",
    "gpuClass": "standard"
  },
  "cells": [
    {
      "cell_type": "markdown",
      "metadata": {
        "id": "Gss5Ox_RNiba"
      },
      "source": [
        "# Controllable TalkNet\n",
        "To run TalkNet, click on Runtime -> Run all. The interface will appear at the bottom of the page when it's ready.\n",
        "\n",
        "## Instructions\n",
        "\n",
        "*   Once the notebook is running, click on Files (the folder icon on the left edge). \n",
        "*   Upload audio clips of a singing or speaking voice by dragging and dropping them onto the sidebar.\n",
        "*   Click on \"Update file list\" in the TalkNet interface. Select an audio file from the dropdown, and type what it says into the Transcript box.\n",
        "*   Select a character, and press Generate. The first line will take a little longer to generate.\n",
        "\n",
        "## Tips and tricks\n",
        "*   If you want to use TalkNet as regular text-to-speech system, without any reference audio, tick the \"Disable reference audio\" checkbox.\n",
        "*   You can use [ARPABET](http://www.speech.cs.cmu.edu/cgi-bin/cmudict) to override the pronunciation of words, like this: *She made a little bow, then she picked up her {B OW}.*\n",
        "*   If you're running out of memory generating lines, try to work with shorter clips.\n",
        "*   The singing models are trained on very little data, and can have a hard time pronouncing certain words. Try experimenting with ARPABET and punctuation.\n",
        "*   If the voice is off-key, the problem is usually with the extracted pitch. Press \"Debug pitch\" to listen to it. Reference audio with lots of echo/reverb or background noise, or singers with a very high vocal range can cause issues.\n",
        "*   If the singing voice sounds strained, try enabling \"Change input pitch\" and adjusting it up or down a few semitones. If you're remixing a song, remember to pitch-shift your background track as well."
      ]
    },
    {
      "cell_type": "code",
      "metadata": {
        "id": "LCqXqFgP2ri0",
        "colab": {
          "base_uri": "https://localhost:8080/"
        },
        "outputId": "c2d3c28d-01f7-4402-b23f-d7acc42d8a58"
      },
      "source": [
        "#@markdown **Step 1:** Check which GPU you've been allocated.\n",
        "\n",
        "!nvidia-smi -L\n",
        "!nvidia-smi"
      ],
      "execution_count": 1,
      "outputs": [
        {
          "output_type": "stream",
          "name": "stdout",
          "text": [
            "GPU 0: Tesla T4 (UUID: GPU-7e4e6f2b-cd49-00ad-fab7-058c9722d035)\n",
            "Thu Apr 13 04:20:18 2023       \n",
            "+-----------------------------------------------------------------------------+\n",
            "| NVIDIA-SMI 525.85.12    Driver Version: 525.85.12    CUDA Version: 12.0     |\n",
            "|-------------------------------+----------------------+----------------------+\n",
            "| GPU  Name        Persistence-M| Bus-Id        Disp.A | Volatile Uncorr. ECC |\n",
            "| Fan  Temp  Perf  Pwr:Usage/Cap|         Memory-Usage | GPU-Util  Compute M. |\n",
            "|                               |                      |               MIG M. |\n",
            "|===============================+======================+======================|\n",
            "|   0  Tesla T4            Off  | 00000000:00:04.0 Off |                    0 |\n",
            "| N/A   51C    P8    10W /  70W |      0MiB / 15360MiB |      0%      Default |\n",
            "|                               |                      |                  N/A |\n",
            "+-------------------------------+----------------------+----------------------+\n",
            "                                                                               \n",
            "+-----------------------------------------------------------------------------+\n",
            "| Processes:                                                                  |\n",
            "|  GPU   GI   CI        PID   Type   Process name                  GPU Memory |\n",
            "|        ID   ID                                                   Usage      |\n",
            "|=============================================================================|\n",
            "|  No running processes found                                                 |\n",
            "+-----------------------------------------------------------------------------+\n"
          ]
        }
      ]
    },
    {
      "cell_type": "code",
      "metadata": {
        "id": "teF-Ut8Z7Gjp",
        "colab": {
          "base_uri": "https://localhost:8080/"
        },
        "outputId": "7e854f0b-364c-4d3e-cb43-214d11129d03"
      },
      "source": [
        "#@markdown **Step 2:** Download dependencies.\n",
        "%tensorflow_version 2.x\n",
        "import os\n",
        "\n",
        "custom_lists = [\n",
        "    #\"https://gist.github.com/emmi-01/5c76aaa76d0e1cd5e09b7f9bb0333a79#file-example_models-json\",\n",
        "]\n",
        "\n",
        "!apt-get install sox libsndfile1 ffmpeg\n",
        "!pip install torch==1.8.1\n",
        "!pip install tensorflow dash==1.21.0 dash-bootstrap-components==0.13.0 jupyter-dash==0.4.0 psola wget unidecode pysptk frozendict torchvision==0.9.1 torchaudio==0.8.1 torchtext torch_stft kaldiio pydub pyannote.audio g2p_en pesq pystoi crepe resampy ffmpeg-python torchcrepe einops taming-transformers-rom1504==0.0.6 tensorflow-hub\n",
        "!pip install --upgrade --no-cache-dir gdown\n",
        "!python -m pip install git+https://github.com/emmi-01/NeMo.git\n",
        "if not os.path.exists(\"hifi-gan\"):\n",
        "    !git clone -q --recursive https://github.com/emmi-01/hifi-gan\n",
        "!git clone -q https://github.com/emmi-01/ControllableTalkNet\n",
        "os.chdir(\"/content/ControllableTalkNet\")\n",
        "!git archive --output=./files.tar --format=tar HEAD\n",
        "os.chdir(\"/content\")\n",
        "!tar xf ControllableTalkNet/files.tar\n",
        "!rm -rf ControllableTalkNet\n",
        "\n",
        "# PESQ fix\n",
        "!python -m pip uninstall -y pesq\n",
        "!python -m pip uninstall -y numpy\n",
        "!python -m pip install numpy==1.19.5\n",
        "!python -m pip --no-cache-dir install --no-build-isolation --no-binary :all: pesq==0.0.2\n",
        "\n",
        "# werkzeug fix\n",
        "!python -m pip install werkzeug==2.0.0 flask==2.1.3\n",
        "\n",
        "# 3.9 fix\n",
        "!pip install torch==1.8.1 torchmetrics==0.6.0 pytorch-lightning==1.3.8\n",
        "!pip uninstall numpy -y\n",
        "!pip install -U numpy numba --no-cache-dir\n",
        "\n",
        "os.chdir(\"/content/model_lists\")\n",
        "for c in custom_lists:\n",
        "    !wget \"{c}\"\n",
        "os.chdir(\"/content\")\n"
      ],
      "execution_count": null,
      "outputs": [
        {
          "output_type": "stream",
          "name": "stdout",
          "text": [
            "Colab only includes TensorFlow 2.x; %tensorflow_version has no effect.\n",
            "Reading package lists... Done\n",
            "Building dependency tree       \n",
            "Reading state information... Done\n",
            "libsndfile1 is already the newest version (1.0.28-7ubuntu0.1).\n",
            "ffmpeg is already the newest version (7:4.2.7-0ubuntu0.1).\n",
            "The following additional packages will be installed:\n",
            "  libopencore-amrnb0 libopencore-amrwb0 libsox-fmt-alsa libsox-fmt-base\n",
            "  libsox3\n",
            "Suggested packages:\n",
            "  libsox-fmt-all\n",
            "The following NEW packages will be installed:\n",
            "  libopencore-amrnb0 libopencore-amrwb0 libsox-fmt-alsa libsox-fmt-base\n",
            "  libsox3 sox\n",
            "0 upgraded, 6 newly installed, 0 to remove and 24 not upgraded.\n",
            "Need to get 513 kB of archives.\n",
            "After this operation, 1,564 kB of additional disk space will be used.\n",
            "Get:1 http://archive.ubuntu.com/ubuntu focal/universe amd64 libopencore-amrnb0 amd64 0.1.5-1 [94.8 kB]\n",
            "Get:2 http://archive.ubuntu.com/ubuntu focal/universe amd64 libopencore-amrwb0 amd64 0.1.5-1 [49.1 kB]\n",
            "Get:3 http://archive.ubuntu.com/ubuntu focal-updates/universe amd64 libsox3 amd64 14.4.2+git20190427-2+deb11u2build0.20.04.1 [225 kB]\n",
            "Get:4 http://archive.ubuntu.com/ubuntu focal-updates/universe amd64 libsox-fmt-alsa amd64 14.4.2+git20190427-2+deb11u2build0.20.04.1 [10.5 kB]\n",
            "Get:5 http://archive.ubuntu.com/ubuntu focal-updates/universe amd64 libsox-fmt-base amd64 14.4.2+git20190427-2+deb11u2build0.20.04.1 [31.4 kB]\n",
            "Get:6 http://archive.ubuntu.com/ubuntu focal-updates/universe amd64 sox amd64 14.4.2+git20190427-2+deb11u2build0.20.04.1 [102 kB]\n",
            "Fetched 513 kB in 0s (1,546 kB/s)\n",
            "Selecting previously unselected package libopencore-amrnb0:amd64.\n",
            "(Reading database ... 122349 files and directories currently installed.)\n",
            "Preparing to unpack .../0-libopencore-amrnb0_0.1.5-1_amd64.deb ...\n",
            "Unpacking libopencore-amrnb0:amd64 (0.1.5-1) ...\n",
            "Selecting previously unselected package libopencore-amrwb0:amd64.\n",
            "Preparing to unpack .../1-libopencore-amrwb0_0.1.5-1_amd64.deb ...\n",
            "Unpacking libopencore-amrwb0:amd64 (0.1.5-1) ...\n",
            "Selecting previously unselected package libsox3:amd64.\n",
            "Preparing to unpack .../2-libsox3_14.4.2+git20190427-2+deb11u2build0.20.04.1_amd64.deb ...\n",
            "Unpacking libsox3:amd64 (14.4.2+git20190427-2+deb11u2build0.20.04.1) ...\n",
            "Selecting previously unselected package libsox-fmt-alsa:amd64.\n",
            "Preparing to unpack .../3-libsox-fmt-alsa_14.4.2+git20190427-2+deb11u2build0.20.04.1_amd64.deb ...\n",
            "Unpacking libsox-fmt-alsa:amd64 (14.4.2+git20190427-2+deb11u2build0.20.04.1) ...\n",
            "Selecting previously unselected package libsox-fmt-base:amd64.\n",
            "Preparing to unpack .../4-libsox-fmt-base_14.4.2+git20190427-2+deb11u2build0.20.04.1_amd64.deb ...\n",
            "Unpacking libsox-fmt-base:amd64 (14.4.2+git20190427-2+deb11u2build0.20.04.1) ...\n",
            "Selecting previously unselected package sox.\n",
            "Preparing to unpack .../5-sox_14.4.2+git20190427-2+deb11u2build0.20.04.1_amd64.deb ...\n",
            "Unpacking sox (14.4.2+git20190427-2+deb11u2build0.20.04.1) ...\n",
            "Setting up libsox3:amd64 (14.4.2+git20190427-2+deb11u2build0.20.04.1) ...\n",
            "Setting up libopencore-amrwb0:amd64 (0.1.5-1) ...\n",
            "Setting up libsox-fmt-alsa:amd64 (14.4.2+git20190427-2+deb11u2build0.20.04.1) ...\n",
            "Setting up libopencore-amrnb0:amd64 (0.1.5-1) ...\n",
            "Setting up libsox-fmt-base:amd64 (14.4.2+git20190427-2+deb11u2build0.20.04.1) ...\n",
            "Setting up sox (14.4.2+git20190427-2+deb11u2build0.20.04.1) ...\n",
            "Processing triggers for libc-bin (2.31-0ubuntu9.9) ...\n",
            "Processing triggers for man-db (2.9.1-1) ...\n",
            "Processing triggers for mime-support (3.64ubuntu1) ...\n",
            "Looking in indexes: https://pypi.org/simple, https://us-python.pkg.dev/colab-wheels/public/simple/\n",
            "Collecting torch==1.8.1\n",
            "  Downloading torch-1.8.1-cp39-cp39-manylinux1_x86_64.whl (804.1 MB)\n",
            "\u001b[2K     \u001b[90m━━━━━━━━━━━━━━━━━━━━━━━━━━━━━━━━━━━━━━━\u001b[0m \u001b[32m804.1/804.1 MB\u001b[0m \u001b[31m1.9 MB/s\u001b[0m eta \u001b[36m0:00:00\u001b[0m\n",
            "\u001b[?25hRequirement already satisfied: typing-extensions in /usr/local/lib/python3.9/dist-packages (from torch==1.8.1) (4.5.0)\n",
            "Requirement already satisfied: numpy in /usr/local/lib/python3.9/dist-packages (from torch==1.8.1) (1.22.4)\n",
            "Installing collected packages: torch\n",
            "  Attempting uninstall: torch\n",
            "    Found existing installation: torch 2.0.0+cu118\n",
            "    Uninstalling torch-2.0.0+cu118:\n",
            "      Successfully uninstalled torch-2.0.0+cu118\n"
          ]
        }
      ]
    },
    {
      "cell_type": "code",
      "metadata": {
        "id": "tOXejargIPTq",
        "cellView": "form"
      },
      "source": [
        "# @markdown **Step 3:** **Restart the runtime before running this step!** Then run this cell.\n",
        "using_inline = True\n",
        "import pkg_resources\n",
        "from pkg_resources import DistributionNotFound, VersionConflict\n",
        "\"\"\"dependencies = [\n",
        "\"tensorflow==2.4.1\", \n",
        "\"dash\", \n",
        "\"jupyter-dash\", \n",
        "\"psola\", \n",
        "\"wget\", \n",
        "\"unidecode\", \n",
        "\"pysptk\", \n",
        "\"frozendict\", \n",
        "\"torchvision==0.9.1\", \n",
        "\"torchaudio==0.8.1\", \n",
        "\"torchtext==0.9.1\", \n",
        "\"torch_stft\", \n",
        "\"kaldiio\", \n",
        "\"pydub\", \n",
        "\"pyannote.audio\", \n",
        "\"g2p_en\", \n",
        "\"pesq\", \n",
        "\"pystoi\", \n",
        "\"crepe\", \n",
        "\"resampy\", \n",
        "\"ffmpeg-python\",\n",
        "\"numpy\",\n",
        "\"scipy\",\n",
        "\"nemo_toolkit\",\n",
        "\"tqdm\",\n",
        "\"gdown\",\n",
        "]\n",
        "pkg_resources.require(dependencies)\"\"\"\n",
        "\n",
        "from controllable_talknet import *\n",
        "app.run_server(\n",
        "    mode=\"inline\",\n",
        "    #dev_tools_ui=True,\n",
        "    #dev_tools_hot_reload=True,\n",
        "    threaded=True,\n",
        ")"
      ],
      "execution_count": null,
      "outputs": []
    },
    {
      "cell_type": "code",
      "metadata": {
        "id": "F4WDzfRIgb5Z",
        "colab": {
          "base_uri": "https://localhost:8080/",
          "height": 454
        },
        "outputId": "330ee524-5886-44fe-8047-d698e3d89d91"
      },
      "source": [
        "# @markdown **Step 3B:** If the above fails with a 403 error, do the following:\n",
        "# @markdown * Go to Runtime -> Restart runtime\n",
        "# @markdown * Run this cell (click the play button)\n",
        "# @markdown * Click on the googleusercontent.com link to use TalkNet in a separate tab\n",
        "try:\n",
        "    using_inline\n",
        "except:\n",
        "    using_inline = False\n",
        "if not using_inline:\n",
        "    from controllable_talknet import *\n",
        "    from google.colab.output import eval_js\n",
        "\n",
        "    print(eval_js(\"google.colab.kernel.proxyPort(8050)\"))\n",
        "    app.run_server(\n",
        "        mode=\"external\",\n",
        "        debug=False,\n",
        "        #dev_tools_ui=True,\n",
        "        #dev_tools_hot_reload=True,\n",
        "        threaded=True,\n",
        "    )"
      ],
      "execution_count": null,
      "outputs": [
        {
          "output_type": "stream",
          "name": "stderr",
          "text": [
            "[NeMo W 2023-03-14 20:22:40 optimizers:47] Apex was not found. Using the lamb optimizer will error out.\n",
            "[nltk_data] Downloading package averaged_perceptron_tagger to\n",
            "[nltk_data]     /root/nltk_data...\n",
            "[nltk_data]   Unzipping taggers/averaged_perceptron_tagger.zip.\n",
            "[nltk_data] Downloading package cmudict to /root/nltk_data...\n",
            "[nltk_data]   Unzipping corpora/cmudict.zip.\n",
            "[NeMo W 2023-03-14 20:22:43 experimental:27] Module <class 'nemo.collections.asr.data.audio_to_text_dali.AudioToCharDALIDataset'> is experimental, not ready for production and is not fully supported. Use at your own risk.\n"
          ]
        },
        {
          "output_type": "stream",
          "name": "stdout",
          "text": [
            "[NeMo I 2023-03-14 20:22:43 cloud:66] Downloading from: https://api.ngc.nvidia.com/v2/models/nvidia/nemo/asr_talknet_aligner/versions/1.0.0rc1/files/qn5x5_libri_tts_phonemes.nemo to /root/.cache/torch/NeMo/NeMo_1.0.2/qn5x5_libri_tts_phonemes/656c7439dd3a0d614978529371be498b/qn5x5_libri_tts_phonemes.nemo\n",
            "[NeMo I 2023-03-14 20:22:46 common:676] Instantiating model from pre-trained checkpoint\n"
          ]
        },
        {
          "output_type": "stream",
          "name": "stderr",
          "text": [
            "[NeMo W 2023-03-14 20:22:47 features:229] Using torch_stft is deprecated and will be removed in 1.1.0. Please set stft_conv and stft_exact_pad to False for FilterbankFeatures and AudioToMelSpectrogramPreprocessor. Please set exact_pad to True as needed.\n"
          ]
        },
        {
          "output_type": "stream",
          "name": "stdout",
          "text": [
            "[NeMo I 2023-03-14 20:22:47 features:252] PADDING: 1\n",
            "[NeMo I 2023-03-14 20:22:47 features:262] STFT using conv\n"
          ]
        },
        {
          "output_type": "stream",
          "name": "stderr",
          "text": [
            "[NeMo W 2023-03-14 20:22:49 nemo_logging:349] /usr/local/lib/python3.9/dist-packages/torch_stft/stft.py:46: FutureWarning: Pass size=1024 as keyword args. From version 0.10 passing these as positional arguments will result in an error\n",
            "      fft_window = pad_center(fft_window, filter_length)\n",
            "    \n",
            "[NeMo W 2023-03-14 20:22:49 nemo_logging:349] /usr/local/lib/python3.9/dist-packages/nemo/collections/asr/parts/preprocessing/features.py:302: FutureWarning: Pass sr=22050, n_fft=1024 as keyword args. From version 0.10 passing these as positional arguments will result in an error\n",
            "      librosa.filters.mel(sample_rate, self.n_fft, n_mels=nfilt, fmin=lowfreq, fmax=highfreq), dtype=torch.float\n",
            "    \n"
          ]
        },
        {
          "output_type": "stream",
          "name": "stdout",
          "text": [
            "[NeMo I 2023-03-14 20:22:53 modelPT:439] Model EncDecCTCModel was successfully restored from /root/.cache/torch/NeMo/NeMo_1.0.2/qn5x5_libri_tts_phonemes/656c7439dd3a0d614978529371be498b/qn5x5_libri_tts_phonemes.nemo.\n"
          ]
        },
        {
          "output_type": "stream",
          "name": "stderr",
          "text": [
            "INFO:werkzeug: * Running on http://127.0.0.1:8050/ (Press CTRL+C to quit)\n",
            "INFO:werkzeug:127.0.0.1 - - [14/Mar/2023 20:22:54] \"GET /_alive_364386a2-76e0-45d6-b780-7887cb53bb58 HTTP/1.1\" 200 -\n"
          ]
        },
        {
          "output_type": "stream",
          "name": "stdout",
          "text": [
            "https://3xzy7jiqaef-496ff2e9c6d22116-8050-colab.googleusercontent.com/\n",
            "Dash app running on:\n"
          ]
        },
        {
          "output_type": "display_data",
          "data": {
            "text/plain": [
              "<IPython.core.display.Javascript object>"
            ],
            "application/javascript": [
              "(async (port, path, text, element) => {\n",
              "    if (!google.colab.kernel.accessAllowed) {\n",
              "      return;\n",
              "    }\n",
              "    element.appendChild(document.createTextNode(''));\n",
              "    const url = await google.colab.kernel.proxyPort(port);\n",
              "    const anchor = document.createElement('a');\n",
              "    anchor.href = new URL(path, url).toString();\n",
              "    anchor.target = '_blank';\n",
              "    anchor.setAttribute('data-href', url + path);\n",
              "    anchor.textContent = text;\n",
              "    element.appendChild(anchor);\n",
              "  })(8050, \"/\", \"http://127.0.0.1:8050/\", window.element)"
            ]
          },
          "metadata": {}
        }
      ]
    }
  ]
}